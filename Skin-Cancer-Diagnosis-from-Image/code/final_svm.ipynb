{
 "cells": [
  {
   "cell_type": "code",
   "execution_count": 7,
   "metadata": {
    "id": "0fRz9FgU1SXx",
    "tags": []
   },
   "outputs": [],
   "source": [
    "import pandas as pd\n",
    "import numpy as np\n",
    "import matplotlib.pyplot as plt\n",
    "from sklearn.utils import shuffle\n",
    "from sklearn import preprocessing, datasets, svm, metrics\n",
    "import tensorflow.keras as tk\n",
    "from sklearn.model_selection import train_test_split,GridSearchCV,cross_val_score\n",
    "from sklearn.metrics import accuracy_score, f1_score, confusion_matrix\n",
    "from sklearn.preprocessing import MinMaxScaler\n",
    "import os\n",
    "from skimage.transform import resize\n",
    "import matplotlib.image as mpimg"
   ]
  },
  {
   "cell_type": "code",
   "execution_count": 12,
   "metadata": {},
   "outputs": [],
   "source": [
    "'''Creates a csv file for the data with individual features for each RGB\n",
    "Value. This method is used for knn and svm where tuples are not accepted\n",
    "as possible inputs.\n",
    "\n",
    "Parameters:\n",
    "dimension - an integer representing desired of the image:\n",
    "            dimension x dimension\n",
    "Returns:\n",
    "None\n",
    "\n",
    "'''\n",
    "def getDataFrame(dimension):\n",
    "    cwd = os.getcwd()\n",
    "    metadata = pd.read_csv(cwd+'/data/HAM10000_metadata.csv')\n",
    "    directory1 = cwd+'/data/HAM10000_images_part_1/'\n",
    "    directory2 = cwd+'/data/HAM10000_images_part_2/'\n",
    "    c_type = {\"akiec\":0,\n",
    "         \"bcc\":1,\n",
    "         \"bkl\":2,\n",
    "         \"df\":3,\n",
    "         \"mel\":4,\n",
    "         \"nv\":5,\n",
    "         \"vasc\":6}\n",
    "    i=0\n",
    "    y=[]\n",
    "    x = np.empty((10015, dimension*dimension*3))\n",
    "    for imagename in os.listdir(directory1):\n",
    "        x[i] = np.ndarray.flatten(resize(mpimg.imread(directory1+imagename), output_shape=(dimension,dimension,3), preserve_range = True,anti_aliasing=True).astype(int))\n",
    "        y.append(c_type[metadata.loc[metadata['image_id'] == imagename[0:len(imagename)-4]]['dx'].array[0]])\n",
    "        i+=1\n",
    "    for imagename in os.listdir(directory2):\n",
    "        x[i] = np.ndarray.flatten(resize(mpimg.imread(directory2+imagename), output_shape=(dimension,dimension,3), preserve_range = True,anti_aliasing=True).astype(int))\n",
    "        y.append(c_type[metadata.loc[metadata['image_id'] == imagename[0:len(imagename)-4]]['dx'].array[0]])\n",
    "        i+=1\n",
    "    df = pd.DataFrame(x)\n",
    "    df[\"label\"] = y\n",
    "    name = \"hmnist_\"+str(dimension)+'_'+str(dimension)+\"_RGB.csv\"\n",
    "    df.to_csv(name, index=False)"
   ]
  },
  {
   "cell_type": "code",
   "execution_count": 13,
   "metadata": {},
   "outputs": [],
   "source": [
    "getDataFrame(28)"
   ]
  },
  {
   "cell_type": "code",
   "execution_count": 2,
   "metadata": {
    "colab": {
     "base_uri": "https://localhost:8080/"
    },
    "id": "Ckey-ezs1Vg8",
    "outputId": "6f40a92e-d10d-4351-a3c4-bd39216b1402"
   },
   "outputs": [
    {
     "name": "stdout",
     "output_type": "stream",
     "text": [
      "      pixel0000  pixel0001  pixel0002  pixel0003  pixel0004  pixel0005  \\\n",
      "3484        231        162        172        231        161        171   \n",
      "781         118         84        140         82         66        156   \n",
      "2083        148         92         77        157        106         99   \n",
      "9706        151        120        114        156        125        119   \n",
      "8427        170        148        150        177        153        157   \n",
      "...         ...        ...        ...        ...        ...        ...   \n",
      "833         210        164        177        215        170        185   \n",
      "543          90         68         83        117         90        102   \n",
      "6978        165        133        153        167        134        156   \n",
      "2290        173        134        141        179        142        145   \n",
      "2840        191        158        173        195        168        186   \n",
      "\n",
      "      pixel0006  pixel0007  pixel0008  pixel0009  ...  pixel2343  pixel2344  \\\n",
      "3484        236        163        176        238  ...        212        134   \n",
      "781          88         62        147        125  ...        144         87   \n",
      "2083        161        110        101        162  ...        165        109   \n",
      "9706        162        130        122        162  ...        128         88   \n",
      "8427        178        150        155        172  ...        167        144   \n",
      "...         ...        ...        ...        ...  ...        ...        ...   \n",
      "833         216        171        182        216  ...        211        157   \n",
      "543         137        104        107        156  ...        135        107   \n",
      "6978        170        129        154        171  ...        129        102   \n",
      "2290        187        153        156        189  ...        174        145   \n",
      "2840        201        177        196        205  ...        175        142   \n",
      "\n",
      "      pixel2345  pixel2346  pixel2347  pixel2348  pixel2349  pixel2350  \\\n",
      "3484        128        210        135        130        207        134   \n",
      "781         123        142         85        128         84         31   \n",
      "2083        102        160        107        101        157        107   \n",
      "9706         74        146        109         98        133         95   \n",
      "8427        141        163        139        137        155        130   \n",
      "...         ...        ...        ...        ...        ...        ...   \n",
      "833         181        207        155        180        201        149   \n",
      "543         124        109         87        104         80         61   \n",
      "6978        120        130        101        112        126         99   \n",
      "2290        147        168        137        139        160        128   \n",
      "2840        152        169        136        148        163        129   \n",
      "\n",
      "      pixel2351  label  \n",
      "3484        137      4  \n",
      "781         104      2  \n",
      "2083        102      6  \n",
      "9706         87      0  \n",
      "8427        125      4  \n",
      "...         ...    ...  \n",
      "833         167      2  \n",
      "543          78      2  \n",
      "6978        106      4  \n",
      "2290        128      6  \n",
      "2840        142      1  \n",
      "\n",
      "[10015 rows x 2353 columns]\n"
     ]
    }
   ],
   "source": [
    "#read in data\n",
    "impot_data = pd.read_csv('hmnist_28_28_RGB.csv')\n",
    "\n",
    "#shuffle data\n",
    "temp = shuffle(impot_data)\n",
    "\n",
    "#store values in the \"cancer\" column\n",
    "print(temp)\n",
    "target = temp[\"label\"]\n",
    "# target = temp[\"label\"]\n",
    "\n",
    "x_undata= temp.drop(columns=[\"label\"])\n",
    "\n",
    "scaler = MinMaxScaler()\n",
    "result = scaler.fit(x_undata)\n",
    "\n",
    "#normalized data is a 2d array\n",
    "x_data = scaler.transform(x_undata)\n",
    "\n",
    "#split data\n",
    "X_train, x_test, Y_train, y_test = train_test_split(x_data, target, test_size = 0.20, random_state= 42)\n",
    "x_train, x_val, y_train, y_val = train_test_split(X_train,Y_train, test_size= 1/8, random_state= 42)"
   ]
  },
  {
   "cell_type": "code",
   "execution_count": 3,
   "metadata": {},
   "outputs": [
    {
     "data": {
      "text/plain": [
       "array([[0.        , 0.        , 0.        , ..., 0.00393701, 0.00401606,\n",
       "        0.00393701],\n",
       "       [0.87843137, 0.57317073, 0.54901961, ..., 0.7992126 , 0.5502008 ,\n",
       "        0.44094488],\n",
       "       [0.96078431, 0.66260163, 0.69019608, ..., 0.87007874, 0.6184739 ,\n",
       "        0.5984252 ],\n",
       "       ...,\n",
       "       [0.78431373, 0.67479675, 0.7372549 , ..., 0.80708661, 0.69879518,\n",
       "        0.76377953],\n",
       "       [0.78039216, 0.48373984, 0.58823529, ..., 0.67322835, 0.41365462,\n",
       "        0.45669291],\n",
       "       [0.87843137, 0.55284553, 0.53333333, ..., 0.77559055, 0.45783133,\n",
       "        0.41732283]])"
      ]
     },
     "execution_count": 3,
     "metadata": {},
     "output_type": "execute_result"
    }
   ],
   "source": [
    "x_train"
   ]
  },
  {
   "cell_type": "markdown",
   "metadata": {
    "id": "QVgWW2wt1SX8"
   },
   "source": [
    "## SVM Model"
   ]
  },
  {
   "cell_type": "code",
   "execution_count": 4,
   "metadata": {
    "id": "9hkmoYsg1SX8",
    "outputId": "a48e6625-d7e1-41aa-9744-dfb7a0321c2d"
   },
   "outputs": [
    {
     "data": {
      "text/plain": [
       "SVC(degree=2, gamma=0.07, kernel='poly')"
      ]
     },
     "execution_count": 4,
     "metadata": {},
     "output_type": "execute_result"
    }
   ],
   "source": [
    "clf = svm.SVC(kernel = 'poly',degree = 2, gamma = 0.07)\n",
    "clf.fit(x_train, y_train)"
   ]
  },
  {
   "cell_type": "code",
   "execution_count": 5,
   "metadata": {
    "id": "O3y82AEb1SX9"
   },
   "outputs": [
    {
     "data": {
      "text/plain": [
       "2003"
      ]
     },
     "execution_count": 5,
     "metadata": {},
     "output_type": "execute_result"
    }
   ],
   "source": [
    "predicted = clf.predict(x_test)\n",
    "predicted.size"
   ]
  },
  {
   "cell_type": "code",
   "execution_count": 6,
   "metadata": {
    "id": "O3y82AEb1SX9"
   },
   "outputs": [
    {
     "name": "stdout",
     "output_type": "stream",
     "text": [
      "[2 4 6 ... 4 0 4]\n",
      "[2 4 4 ... 4 0 4]\n"
     ]
    }
   ],
   "source": [
    "y_test\n",
    "ya = np.array(y_test)\n",
    "ya.size\n",
    "print(ya)\n",
    "print(predicted)"
   ]
  },
  {
   "cell_type": "code",
   "execution_count": 7,
   "metadata": {
    "id": "yFm3aaD71SX-",
    "outputId": "4d4d3ece-fced-41d0-c329-db8903a27757"
   },
   "outputs": [
    {
     "name": "stdout",
     "output_type": "stream",
     "text": [
      "Classification report for classifier SVC(degree=2, gamma=0.07, kernel='poly'):\n",
      "              precision    recall  f1-score   support\n",
      "\n",
      "           0       0.32      0.36      0.34        64\n",
      "           1       0.44      0.47      0.45       106\n",
      "           2       0.35      0.40      0.37       218\n",
      "           3       0.00      0.00      0.00        24\n",
      "           4       0.84      0.85      0.85      1345\n",
      "           5       0.36      0.33      0.35        27\n",
      "           6       0.40      0.28      0.33       219\n",
      "\n",
      "    accuracy                           0.69      2003\n",
      "   macro avg       0.39      0.38      0.38      2003\n",
      "weighted avg       0.68      0.69      0.68      2003\n",
      "\n",
      "\n",
      "0.6869695456814778\n"
     ]
    }
   ],
   "source": [
    "print(\n",
    "    f\"Classification report for classifier {clf}:\\n\"\n",
    "    f\"{metrics.classification_report(ya, predicted)}\\n\"\n",
    ")\n",
    "count = 0\n",
    "for i in range(0,ya.size):\n",
    "    if (ya[i] == predicted[i]):\n",
    "        count += 1\n",
    "accu = count / ya.size\n",
    "print(accu)"
   ]
  },
  {
   "cell_type": "code",
   "execution_count": 8,
   "metadata": {
    "id": "c5IdiD4J1SX-",
    "outputId": "7abbcd44-cbca-4d16-a671-a5044ed8b258"
   },
   "outputs": [
    {
     "name": "stdout",
     "output_type": "stream",
     "text": [
      "Confusion matrix:\n",
      "[[  23   10   15    0    9    1    6]\n",
      " [  13   50   11    4   23    4    1]\n",
      " [   9   13   87    3   83    4   19]\n",
      " [   7    8    5    0    4    0    0]\n",
      " [  12   23   86   12 1146    2   64]\n",
      " [   3    3    1    1    9    9    1]\n",
      " [   6    7   45    4   91    5   61]]\n"
     ]
    },
    {
     "data": {
      "image/png": "[encoded data removed]",
      "text/plain": [
       "<Figure size 432x288 with 2 Axes>"
      ]
     },
     "metadata": {
      "needs_background": "light"
     },
     "output_type": "display_data"
    }
   ],
   "source": [
    "disp = metrics.ConfusionMatrixDisplay.from_predictions(y_test, predicted)\n",
    "disp.figure_.suptitle(\"Confusion Matrix\")\n",
    "print(f\"Confusion matrix:\\n{disp.confusion_matrix}\")\n",
    "\n",
    "plt.show()"
   ]
  },
  {
   "cell_type": "code",
   "execution_count": 9,
   "metadata": {
    "id": "7rjVge5s1SX_"
   },
   "outputs": [
    {
     "name": "stdout",
     "output_type": "stream",
     "text": [
      "[{'C': 1, 'kernel': 'linear'}, {'C': 1, 'kernel': 'poly'}, {'C': 5, 'kernel': 'linear'}, {'C': 5, 'kernel': 'poly'}, {'C': 9, 'kernel': 'linear'}, {'C': 9, 'kernel': 'poly'}]\n",
      "[1 2 5 2 6 2]\n",
      "[0.66170647 0.66071642 0.64872637 0.66071642 0.64673632 0.66071642]\n"
     ]
    }
   ],
   "source": [
    "#hyperparameter tuning\n",
    "parameters = {'kernel':('linear','poly'), 'C':[1,5,9]}\n",
    "svc = svm.SVC()\n",
    "gs = GridSearchCV(svc, parameters)\n",
    "gs.fit(x_val, y_val)\n",
    "print(gs.cv_results_[\"params\"])\n",
    "print(gs.cv_results_[\"rank_test_score\"])\n",
    "print(gs.cv_results_[\"mean_test_score\"])"
   ]
  },
  {
   "cell_type": "code",
   "execution_count": 10,
   "metadata": {},
   "outputs": [
    {
     "name": "stdout",
     "output_type": "stream",
     "text": [
      "[{'degree': 2, 'gamma': 0.01, 'kernel': 'poly'}, {'degree': 2, 'gamma': 0.05, 'kernel': 'poly'}, {'degree': 2, 'gamma': 0.1, 'kernel': 'poly'}, {'degree': 3, 'gamma': 0.01, 'kernel': 'poly'}, {'degree': 3, 'gamma': 0.05, 'kernel': 'poly'}, {'degree': 3, 'gamma': 0.1, 'kernel': 'poly'}, {'degree': 4, 'gamma': 0.01, 'kernel': 'poly'}, {'degree': 4, 'gamma': 0.05, 'kernel': 'poly'}, {'degree': 4, 'gamma': 0.1, 'kernel': 'poly'}]\n",
      "[1 3 3 2 5 5 7 7 7]\n",
      "[0.70259701 0.66169652 0.66169652 0.66769154 0.66071642 0.66071642\n",
      " 0.65971642 0.65971642 0.65971642]\n"
     ]
    }
   ],
   "source": [
    "#second tuning\n",
    "para2 = {'kernel':['poly'], 'degree': [2,3,4],'gamma': [0.01,0.05,0.1]}\n",
    "svc = svm.SVC()\n",
    "gs = GridSearchCV(svc, para2)\n",
    "gs.fit(x_val, y_val)\n",
    "print(gs.cv_results_[\"params\"])\n",
    "print(gs.cv_results_[\"rank_test_score\"])\n",
    "print(gs.cv_results_[\"mean_test_score\"])"
   ]
  },
  {
   "cell_type": "code",
   "execution_count": 11,
   "metadata": {},
   "outputs": [
    {
     "name": "stdout",
     "output_type": "stream",
     "text": [
      "[{'degree': 2, 'gamma': 0.001, 'kernel': 'poly'}, {'degree': 2, 'gamma': 0.003, 'kernel': 'poly'}, {'degree': 2, 'gamma': 0.005, 'kernel': 'poly'}, {'degree': 2, 'gamma': 0.006, 'kernel': 'poly'}, {'degree': 2, 'gamma': 0.007, 'kernel': 'poly'}, {'degree': 2, 'gamma': 0.008, 'kernel': 'poly'}, {'degree': 2, 'gamma': 0.009, 'kernel': 'poly'}]\n",
      "[6 6 4 5 2 3 1]\n",
      "[0.68163682 0.68163682 0.68363682 0.68264179 0.68862687 0.68763682\n",
      " 0.69960697]\n"
     ]
    }
   ],
   "source": [
    "para3 = {'kernel':['poly'], 'degree': [2],'gamma': [0.001,0.003,0.005,0.006,0.007,0.008,0.009]}\n",
    "svc = svm.SVC()\n",
    "gs = GridSearchCV(svc, para3)\n",
    "gs.fit(x_val, y_val)\n",
    "print(gs.cv_results_[\"params\"])\n",
    "print(gs.cv_results_[\"rank_test_score\"])\n",
    "print(gs.cv_results_[\"mean_test_score\"])"
   ]
  },
  {
   "cell_type": "code",
   "execution_count": 12,
   "metadata": {},
   "outputs": [
    {
     "name": "stdout",
     "output_type": "stream",
     "text": [
      "0.6616965174129354\n"
     ]
    }
   ],
   "source": [
    "#k-fold validation\n",
    "K_fold = svm.SVC(kernel = 'poly',degree = 2, gamma = 0.07)\n",
    "validation_result = cross_val_score(K_fold, x_val, y_val, cv = 5)\n",
    "print(validation_result.mean())"
   ]
  },
  {
   "cell_type": "code",
   "execution_count": null,
   "metadata": {},
   "outputs": [],
   "source": []
  }
 ],
 "metadata": {
  "anaconda-cloud": {},
  "colab": {
   "name": "project2 (1).ipynb",
   "provenance": []
  },
  "kernelspec": {
   "display_name": "Python 3 (ipykernel)",
   "language": "python",
   "name": "python3"
  },
  "language_info": {
   "codemirror_mode": {
    "name": "ipython",
    "version": 3
   },
   "file_extension": ".py",
   "mimetype": "text/x-python",
   "name": "python",
   "nbconvert_exporter": "python",
   "pygments_lexer": "ipython3",
   "version": "3.9.12"
  }
 },
 "nbformat": 4,
 "nbformat_minor": 4
}
