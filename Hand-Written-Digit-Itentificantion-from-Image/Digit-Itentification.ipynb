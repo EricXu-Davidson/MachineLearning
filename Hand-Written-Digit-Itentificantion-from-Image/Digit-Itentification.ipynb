{
 "cells": [
  {
   "cell_type": "code",
   "execution_count": 1,
   "metadata": {
    "id": "0fRz9FgU1SXx",
    "tags": []
   },
   "outputs": [],
   "source": [
    "import pandas as pd\n",
    "import numpy as np\n",
    "import matplotlib.pyplot as plt\n",
    "from sklearn import preprocessing, datasets, svm, metrics\n",
    "import tensorflow.keras as tk\n",
    "from sklearn.model_selection import train_test_split\n",
    "from sklearn.metrics import accuracy_score, f1_score, confusion_matrix"
   ]
  },
  {
   "cell_type": "code",
   "execution_count": 2,
   "metadata": {
    "colab": {
     "base_uri": "https://localhost:8080/"
    },
    "id": "Ckey-ezs1Vg8",
    "outputId": "6f40a92e-d10d-4351-a3c4-bd39216b1402"
   },
   "outputs": [],
   "source": [
    "#load data and reduce dementionality\n",
    "(X_train, y_train), (X_test, y_test) = tk.datasets.mnist.load_data()\n",
    "x_train = np.ones((60000,14,14))\n",
    "x_test = np.ones((10000,14,14))\n"
   ]
  },
  {
   "cell_type": "code",
   "execution_count": 3,
   "metadata": {
    "id": "UJNh9cJI1SX0"
   },
   "outputs": [],
   "source": [
    "#normalization function\n",
    "# to 0 to 1\n",
    "def normalize(x):\n",
    "    # array = (array) / 255\n",
    "    x = (x - np.amin(x)) / (np.amax(x) - np.amin(x))\n",
    "    return x"
   ]
  },
  {
   "cell_type": "code",
   "execution_count": 4,
   "metadata": {
    "id": "L9hi53yj1SX1"
   },
   "outputs": [],
   "source": [
    "#normalize inputs\n",
    "# x_train, x_val , x_test= normalize(x_train), normalize(x_val), normalize(x_test)\n",
    "X_train, X_test= normalize(X_train), normalize(X_test)"
   ]
  },
  {
   "cell_type": "code",
   "execution_count": 5,
   "metadata": {
    "id": "pAlUTaLY1SX2"
   },
   "outputs": [],
   "source": [
    "#data exploration\n",
    "# for i in range(10):\n",
    "    # plt.imshow(x_train[i], cmap='gray')\n",
    "    # print(y_train[i])\n",
    "    # plt.show()"
   ]
  },
  {
   "cell_type": "code",
   "execution_count": 5,
   "metadata": {},
   "outputs": [],
   "source": [
    "# reduce pixel function\n",
    "def reduce_pix(x):\n",
    "    y = np.copy(x)\n",
    "    #fold up by half\n",
    "    for i in range(0, 14):\n",
    "        y[i] = (y[2*i] + y[2*i+1])/2\n",
    "    y = y[ :14]\n",
    "    #fold left by half\n",
    "    for j in range(0, 14):\n",
    "        y[ : , j] = (y[: , 2*j] +  y[: , 2*j+1])/2\n",
    "    y = y[ :, :14] \n",
    "    return y"
   ]
  },
  {
   "cell_type": "code",
   "execution_count": 6,
   "metadata": {},
   "outputs": [],
   "source": [
    "# reduce dimentionality, only run once!\n",
    "for i in range(0,60000):\n",
    "  x_train[i] = reduce_pix(X_train[i])\n",
    "for i in range(0,10000):\n",
    "  x_test[i] = reduce_pix(X_test[i])"
   ]
  },
  {
   "cell_type": "code",
   "execution_count": 7,
   "metadata": {},
   "outputs": [
    {
     "data": {
      "text/plain": [
       "<matplotlib.image.AxesImage at 0x1551ea37d250>"
      ]
     },
     "execution_count": 7,
     "metadata": {},
     "output_type": "execute_result"
    },
    {
     "data": {
      "image/png": "[encoded data removed]",
      "text/plain": [
       "<Figure size 432x288 with 1 Axes>"
      ]
     },
     "metadata": {
      "needs_background": "light"
     },
     "output_type": "display_data"
    }
   ],
   "source": [
    "plt.imshow(x_train[0], cmap='gray')"
   ]
  },
  {
   "cell_type": "code",
   "execution_count": 7,
   "metadata": {
    "id": "aiABzH_W1SXz"
   },
   "outputs": [],
   "source": [
    "#load data and split into train, val, test sets, only run once!\n",
    "x_train = x_train.reshape((len(x_train), -1))\n",
    "x_test = x_test.reshape((len(x_test), -1))\n",
    "x_train, x_val, y_train, y_val = train_test_split(x_train, y_train, test_size=1/6, random_state=42)"
   ]
  },
  {
   "cell_type": "markdown",
   "metadata": {
    "id": "YknwevgL1SX3"
   },
   "source": [
    "## KNN - Find the closest image"
   ]
  },
  {
   "cell_type": "code",
   "execution_count": 18,
   "metadata": {
    "id": "K1ZEYg5d1SX5"
   },
   "outputs": [],
   "source": [
    "# calculate the distance between two images\n",
    "def calc_distance(img1, img2):\n",
    "    dist = 0.0\n",
    "    dist = sum(abs(img1-img2))\n",
    "    return dist\n",
    "\n",
    "# find the closest image's y value\n",
    "def find_closest(x_train, y_train, img):\n",
    "    closest_y = y_train[0]\n",
    "    min_dist = float(\"inf\")\n",
    "    #update closes image\n",
    "    for i in range(len(x_train)):\n",
    "        distance = calc_distance(x_train[i], img)\n",
    "        if distance < min_dist:\n",
    "            min_dist = distance\n",
    "            closest_y = y_train[i]\n",
    "    return closest_y\n",
    "\n",
    "# find two closest images' y value\n",
    "def find_closest2(x_train, y_train, img):\n",
    "    closest_y = y_train[0]\n",
    "    closest_y2 = y_train[0]\n",
    "    min_dist = float(\"inf\")\n",
    "    min_dist2 = float(\"inf\")\n",
    "    # keep track of two images\n",
    "    for i in range(len(x_train)):\n",
    "        distance = calc_distance(x_train[i], img)\n",
    "        if distance < min_dist:\n",
    "            min_dist2 = min_dist\n",
    "            min_dist = distance\n",
    "            closest_y = y_train[i]\n",
    "    # return the average of two closest neighbors, floored\n",
    "    return (closest_y + closest_y2)/2"
   ]
  },
  {
   "cell_type": "code",
   "execution_count": 10,
   "metadata": {},
   "outputs": [
    {
     "name": "stdout",
     "output_type": "stream",
     "text": [
      "7 7\n"
     ]
    }
   ],
   "source": [
    "print(find_closest(x_train[:1000], y_train[:1000], x_test[0]), y_test[0])"
   ]
  },
  {
   "cell_type": "code",
   "execution_count": 11,
   "metadata": {
    "id": "7JkZ79vy1SX6"
   },
   "outputs": [],
   "source": [
    "# make KNN predictions for 1 neighbor\n",
    "y_pred_knn = []\n",
    "for img in x_test:\n",
    "    y_pred_knn.append(find_closest(x_train[:1000], y_train[:1000], img))"
   ]
  },
  {
   "cell_type": "code",
   "execution_count": 14,
   "metadata": {
    "id": "giYXPiRV1SX7",
    "outputId": "5fcb8dda-1b1d-49ea-94b1-d469d3a295a3"
   },
   "outputs": [
    {
     "name": "stdout",
     "output_type": "stream",
     "text": [
      "0.8766\n"
     ]
    }
   ],
   "source": [
    "# calculate knn accuracy score\n",
    "\n",
    "print(accuracy_score(y_test, y_pred_knn[1:]))"
   ]
  },
  {
   "cell_type": "code",
   "execution_count": 9,
   "metadata": {},
   "outputs": [],
   "source": [
    "#KNN for 2 neighbors\n",
    "y_pred_knn2 = []\n",
    "for img in x_test:\n",
    "    y_pred_knn2.append(find_closest(x_train[2000:3000], y_train[2000:3000], img))"
   ]
  },
  {
   "cell_type": "code",
   "execution_count": 13,
   "metadata": {},
   "outputs": [
    {
     "name": "stdout",
     "output_type": "stream",
     "text": [
      "0.876\n"
     ]
    }
   ],
   "source": [
    "print(accuracy_score(y_test, y_pred_knn2))"
   ]
  },
  {
   "cell_type": "markdown",
   "metadata": {
    "id": "QVgWW2wt1SX8"
   },
   "source": [
    "## SKLearn Built-In Function"
   ]
  },
  {
   "cell_type": "code",
   "execution_count": 14,
   "metadata": {
    "id": "9hkmoYsg1SX8",
    "outputId": "a48e6625-d7e1-41aa-9744-dfb7a0321c2d"
   },
   "outputs": [
    {
     "data": {
      "text/plain": [
       "SVC(gamma=0.1)"
      ]
     },
     "execution_count": 14,
     "metadata": {},
     "output_type": "execute_result"
    }
   ],
   "source": [
    "# sklearn model with gamma 0.1\n",
    "clf = svm.SVC(gamma=0.1)\n",
    "clf.fit(x_train, y_train)"
   ]
  },
  {
   "cell_type": "code",
   "execution_count": 15,
   "metadata": {
    "id": "O3y82AEb1SX9"
   },
   "outputs": [],
   "source": [
    "# create an array of predicted values\n",
    "predicted = clf.predict(x_test)"
   ]
  },
  {
   "cell_type": "code",
   "execution_count": 16,
   "metadata": {
    "id": "yFm3aaD71SX-",
    "outputId": "4d4d3ece-fced-41d0-c329-db8903a27757"
   },
   "outputs": [
    {
     "name": "stdout",
     "output_type": "stream",
     "text": [
      "Classification report for classifier SVC(gamma=0.1):\n",
      "              precision    recall  f1-score   support\n",
      "\n",
      "           0       0.98      0.99      0.99       980\n",
      "           1       0.99      0.99      0.99      1135\n",
      "           2       0.98      0.98      0.98      1032\n",
      "           3       0.98      0.99      0.99      1010\n",
      "           4       0.98      0.98      0.98       982\n",
      "           5       0.98      0.98      0.98       892\n",
      "           6       0.99      0.98      0.99       958\n",
      "           7       0.98      0.97      0.97      1028\n",
      "           8       0.98      0.98      0.98       974\n",
      "           9       0.98      0.97      0.97      1009\n",
      "\n",
      "    accuracy                           0.98     10000\n",
      "   macro avg       0.98      0.98      0.98     10000\n",
      "weighted avg       0.98      0.98      0.98     10000\n",
      "\n",
      "\n"
     ]
    }
   ],
   "source": [
    "# accuracy report of sklearn model\n",
    "print(\n",
    "    f\"Classification report for classifier {clf}:\\n\"\n",
    "    f\"{metrics.classification_report(y_test, predicted)}\\n\"\n",
    ")"
   ]
  },
  {
   "cell_type": "code",
   "execution_count": 17,
   "metadata": {
    "id": "c5IdiD4J1SX-",
    "outputId": "7abbcd44-cbca-4d16-a671-a5044ed8b258"
   },
   "outputs": [
    {
     "name": "stdout",
     "output_type": "stream",
     "text": [
      "Confusion matrix:\n",
      "[[ 972    0    2    0    0    2    1    1    2    0]\n",
      " [   0 1129    3    1    0    1    0    0    1    0]\n",
      " [   3    1 1016    0    1    0    1    6    4    0]\n",
      " [   0    0    1  998    0    2    0    5    3    1]\n",
      " [   0    0    5    0  964    0    1    0    1   11]\n",
      " [   2    0    0    7    0  874    3    1    4    1]\n",
      " [   6    3    0    0    2    5  941    0    1    0]\n",
      " [   1    8   11    1    2    0    0  996    1    8]\n",
      " [   3    0    1    5    4    3    0    2  953    3]\n",
      " [   2    4    2    4    8    2    1    5    5  976]]\n"
     ]
    },
    {
     "data": {
      "image/png": "[encoded data removed]",
      "text/plain": [
       "<Figure size 432x288 with 2 Axes>"
      ]
     },
     "metadata": {
      "needs_background": "light"
     },
     "output_type": "display_data"
    }
   ],
   "source": [
    "#confusion matrix\n",
    "disp = metrics.ConfusionMatrixDisplay.from_predictions(y_test, predicted)\n",
    "disp.figure_.suptitle(\"Confusion Matrix\")\n",
    "print(f\"Confusion matrix:\\n{disp.confusion_matrix}\")\n",
    "\n",
    "plt.show()"
   ]
  }
 ],
 "metadata": {
  "anaconda-cloud": {},
  "colab": {
   "name": "project2 (1).ipynb",
   "provenance": []
  },
  "kernelspec": {
   "display_name": "Python 3.8",
   "language": "python",
   "name": "python3"
  },
  "language_info": {
   "codemirror_mode": {
    "name": "ipython",
    "version": 3
   },
   "file_extension": ".py",
   "mimetype": "text/x-python",
   "name": "python",
   "nbconvert_exporter": "python",
   "pygments_lexer": "ipython3",
   "version": "3.8.12"
  }
 },
 "nbformat": 4,
 "nbformat_minor": 4
}
